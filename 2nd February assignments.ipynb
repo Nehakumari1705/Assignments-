{
 "cells": [
  {
   "cell_type": "markdown",
   "id": "81bfbab2",
   "metadata": {},
   "source": [
    "##  Q1.what are the characterstics of tuples? Is tuples immutable?"
   ]
  },
  {
   "cell_type": "markdown",
   "id": "01b495cc",
   "metadata": {},
   "source": [
    " #### A tuples is an ordered , immutable collection of the elements of any data type. Here are some key characterstics of tuples:\n",
    "\n",
    "1. Ordered: Tuples are ordered,it means that the elements in tuple have a specific order, and that order is maintained.\n",
    "\n",
    "2. Immutable: Tuples are immutable,it means that once a tuple is created,its content cannot be changed. It is not possible to add,remove or modify elements of tuple. However,it is possible to create a new tuple that contains some or all of the elements of the original tuple,or to convert a tuple to a list and then modify the list.\n",
    "\n",
    "3. Heterogeneous: Tuples can contain all the elements of different data types. For example, a tuple can contain  integers,strings,and other tuples.\n",
    "\n",
    "4. Accessible by index : Individual elements of tuple can be accessed by their index of 0,the secod element has an index of     1,and so on.\n",
    "\n",
    "5. Use parantheses: Tuples are typically defined using parentheses,with the elements separated by commas . For example, \"(1,2,3,'Neha\",4.5)\" containing an integer,a string and float.\n",
    "\n",
    "\n",
    "So as concerned with the second part of the questions , we can say that tuples are immutable."
   ]
  },
  {
   "cell_type": "markdown",
   "id": "8681a8f1",
   "metadata": {},
   "source": [
    "## Q2. What are the two tuple methods in python? Give an example of each method. Give a reason why tuples have only two in-built methods as compared to Lists.\n",
    "\n",
    "The two tuple method in Python are :\n",
    "\n",
    "1. count() : This method returns the number of occurences of a specified value in a tuple.\n",
    "\n",
    "example:\n"
   ]
  },
  {
   "cell_type": "code",
   "execution_count": 10,
   "id": "31dd93dd",
   "metadata": {},
   "outputs": [],
   "source": [
    "my_tuple= (1,2,3,2,3,4,2,2,2,9)"
   ]
  },
  {
   "cell_type": "code",
   "execution_count": 12,
   "id": "c449ea69",
   "metadata": {},
   "outputs": [
    {
     "name": "stdout",
     "output_type": "stream",
     "text": [
      "5\n"
     ]
    }
   ],
   "source": [
    "count=my_tuple.count(2)\n",
    "print(count)"
   ]
  },
  {
   "cell_type": "markdown",
   "id": "ed28585e",
   "metadata": {},
   "source": [
    "2. index() : This method returns the index of the first occurrence of a specified value in a tuple.\n",
    "\n",
    "example :"
   ]
  },
  {
   "cell_type": "code",
   "execution_count": null,
   "id": "004a2e98",
   "metadata": {},
   "outputs": [],
   "source": [
    "my_tuple= (1,2,3,2,3,4,2,2,2,9)"
   ]
  },
  {
   "cell_type": "code",
   "execution_count": 13,
   "id": "128448e1",
   "metadata": {},
   "outputs": [
    {
     "name": "stdout",
     "output_type": "stream",
     "text": [
      "5\n"
     ]
    }
   ],
   "source": [
    "index= my_tuple.index(4)\n",
    "print(index)"
   ]
  },
  {
   "cell_type": "markdown",
   "id": "809682c6",
   "metadata": {},
   "source": [
    " Tuples have only two in-built methods as compared to Lists because tuples are immutable,which means their values cannot be changed once they are defined . As a result,there is no need for methods like \"append()\", \"insert()\",\"remove()\" and \"pop()\" that modify the tuple,which is the case for lists. The two methods that are available for tuples are meant to be used for searching and counting elements,rather than modifying them."
   ]
  },
  {
   "cell_type": "markdown",
   "id": "261c0ba8",
   "metadata": {},
   "source": [
    " ## Q3. Which collection datatypes in python do not allow duplicate items? Write a code using a set to remove duplicates from the given list.\n",
    "List =\n",
    "[1, 1, 1, 2, 1, 3, 1, 4, 2, 1, 2, 2, 2, 3, 2, 4, 3, 1, 3, 2, 3, 3, 3, 4, 4, 1, 4, 2, 4, 3, 4, 4]\n"
   ]
  },
  {
   "cell_type": "markdown",
   "id": "708420d2",
   "metadata": {},
   "source": [
    "#### Ans- In Python,the set datatype does not allow duplicate items. We can use a set to remove duplicates from a given list. Here's the code to remove duplicates from the given list using a set:"
   ]
  },
  {
   "cell_type": "code",
   "execution_count": 6,
   "id": "34178a9b",
   "metadata": {},
   "outputs": [
    {
     "name": "stdout",
     "output_type": "stream",
     "text": [
      "[1, 2, 3, 4]\n"
     ]
    }
   ],
   "source": [
    "my_list = [1, 1, 1, 2, 1, 3, 1, 4, 2, 1, 2, 2, 2, 3, 2, 4, 3, 1, 3, 2, 3, 3, 3, 4, 4, 1, 4, 2, 4, 3, 4, 4]\n",
    "unique_list = set(my_list)\n",
    "print(list(unique_list))"
   ]
  },
  {
   "cell_type": "markdown",
   "id": "6811a449",
   "metadata": {},
   "source": [
    "## Q4. Explain the difference between the union() and update() methods for a set. Give an example of each method.\n"
   ]
  },
  {
   "cell_type": "markdown",
   "id": "3e9d4276",
   "metadata": {},
   "source": [
    "### Ans- Both 'union()' and 'update()' are methods in python that are used to combine two or more sets. However,there is a diffference between the two methods.\n",
    "\n",
    "### 'union()' methods returns a new set that contains all the elements from the original set(s) and the set(s) passed as arguments. The original sets remain unchanged. Here is an example of using the 'union()' method:"
   ]
  },
  {
   "cell_type": "code",
   "execution_count": 14,
   "id": "17e63a17",
   "metadata": {},
   "outputs": [
    {
     "name": "stdout",
     "output_type": "stream",
     "text": [
      "{1, 2, 3, 4, 5}\n",
      "{1, 2, 3}\n"
     ]
    }
   ],
   "source": [
    "set1 = {1,2,3}\n",
    "set2 = {3,4,5}\n",
    "set3 = {5,6,7}\n",
    "\n",
    "new_set = set1.union(set1, set2)\n",
    "print(new_set)\n",
    "\n",
    "print(set1)"
   ]
  },
  {
   "cell_type": "markdown",
   "id": "b47bf508",
   "metadata": {},
   "source": [
    "###  On the other hand, 'update()' method modifies the original set by adding all the unique elements from the set(s) passed as arguments . Here's an example of using the 'update()' method : "
   ]
  },
  {
   "cell_type": "code",
   "execution_count": 15,
   "id": "94315a54",
   "metadata": {},
   "outputs": [
    {
     "name": "stdout",
     "output_type": "stream",
     "text": [
      "{1, 2, 3, 4, 5, 6, 7}\n"
     ]
    }
   ],
   "source": [
    "set1 = {1,2,3}\n",
    "set2 = {3,4,5}\n",
    "set3 = {5,6,7}\n",
    "\n",
    "new_set = set1.update(set2,set3)\n",
    "\n",
    "print(set1)"
   ]
  },
  {
   "cell_type": "markdown",
   "id": "baf7943a",
   "metadata": {},
   "source": [
    "### Conclusion , the 'union()' methods returns a new set with all unique elements from the original and the additional sets, while the 'update()' method modifies the original set by adding unique elements from the additional sets."
   ]
  },
  {
   "cell_type": "markdown",
   "id": "b566995e",
   "metadata": {},
   "source": [
    "## Q5. What is a dictionary? Give an example. Also, state whether a dictionary is ordered or unordered.\n"
   ]
  },
  {
   "cell_type": "markdown",
   "id": "c5285551",
   "metadata": {},
   "source": [
    "### Ans- In Python, a dictionary is a data structure that stores data as key-value pairs. Each key in a dictionary maps to a corresponding value . Dictionaries are also sometimes referred  to as associative arays or hash tables.\n",
    "\n",
    "### Here is an example of a dictionary in Python :"
   ]
  },
  {
   "cell_type": "code",
   "execution_count": null,
   "id": "bc9e78e4",
   "metadata": {},
   "outputs": [],
   "source": [
    "dict = {\"apple\":3, \"banana\":2, \"orange\": 1}"
   ]
  },
  {
   "cell_type": "markdown",
   "id": "bc15375b",
   "metadata": {},
   "source": [
    "### Dictionaries in Python are unordered, which means that the order in which the key-value pairs are stored is not necesarily the same as the order in which they were added . "
   ]
  },
  {
   "cell_type": "markdown",
   "id": "e40561c9",
   "metadata": {},
   "source": [
    "## Q6. Can we create a nested dictionary? If so, please give an example by creating a simple one-level nested dictionary.\n"
   ]
  },
  {
   "cell_type": "markdown",
   "id": "cdf3411a",
   "metadata": {},
   "source": [
    "### Ans- Yes we can create a nested dictionary in Python . A nested dictionary is a dictionary that contains other dictionaries as its values . Each key in the outer dictionaray maps to an inner dictionary as its value.\n",
    "\n",
    "### Here's an example of a simple one-level nested dictionary:"
   ]
  },
  {
   "cell_type": "code",
   "execution_count": 9,
   "id": "3ba7d508",
   "metadata": {},
   "outputs": [
    {
     "name": "stdout",
     "output_type": "stream",
     "text": [
      "{'dictA': {'key_1': 'value_1'}, 'dictB': {'key_2': 'value_2'}}\n"
     ]
    }
   ],
   "source": [
    "nested_dict = { 'dictA': {'key_1': 'value_1'},\n",
    "                'dictB': {'key_2': 'value_2'}}\n",
    "print(nested_dict)"
   ]
  },
  {
   "cell_type": "markdown",
   "id": "2da8f3da",
   "metadata": {},
   "source": [
    "## Q7. Using setdefault() method, create key named topics in the given dictionary and also add the value of the key as this list ['Python', 'Machine Learning', 'Deep Learning']\n",
    "\n",
    "### dict1 = {'language': 'Python', 'course': 'Data Science Masters'}\n"
   ]
  },
  {
   "cell_type": "markdown",
   "id": "8f91cf87",
   "metadata": {},
   "source": [
    "### Ans- To create the key 'topics' and add the list ['Python','Machine Learning','Deep Learning'] as its value in the given dictionary,we can use the 'set default()' metehod. Here's how we can do it:"
   ]
  },
  {
   "cell_type": "code",
   "execution_count": 10,
   "id": "40af54e8",
   "metadata": {},
   "outputs": [
    {
     "data": {
      "text/plain": [
       "['Python', 'Machine Learning', 'Deep Learning']"
      ]
     },
     "execution_count": 10,
     "metadata": {},
     "output_type": "execute_result"
    }
   ],
   "source": [
    "dict1 = {'language': 'Python', 'course':'Data Science Masters'}\n",
    "dict1.setdefault('topics',['Python','Machine Learning','Deep Learning'])"
   ]
  },
  {
   "cell_type": "markdown",
   "id": "dd2bf880",
   "metadata": {},
   "source": [
    "## Q8. What are the three view objects in dictionaries? Use the three in-built methods in python to display these three view objects for the given dictionary.\n",
    "\n",
    "### dict1 = {'Sport': 'Cricket', 'Teams': ['India', 'Australia', 'England', 'South Africa', 'Sri Lanka', 'New Zealand']}"
   ]
  },
  {
   "cell_type": "markdown",
   "id": "0970dbd0",
   "metadata": {},
   "source": [
    "### Ans- In Python, dictionaries have three view objects that provide a dynamic view of the dictionary's contents. These view objects are:\n",
    "\n",
    "1. 'dict.keys()': returns a dynamic view objects that contains the keys of the dictionary.\n",
    "2. 'dict.values()': returns a dynamic view object that contains the values of the dictionary .\n",
    "3. 'dict.items()' : returns a dynamic view object that contains the key-value pairs of the dictionary as tuples.\n",
    "\n",
    "###### Here's how you can display these three view objects for the given dictionary 'dict1':"
   ]
  },
  {
   "cell_type": "code",
   "execution_count": 4,
   "id": "f3a86178",
   "metadata": {},
   "outputs": [
    {
     "name": "stdout",
     "output_type": "stream",
     "text": [
      "Keys view object: dict_keys(['Sport', 'Teams'])\n",
      "Values view object: dict_values(['Cricket', ['India', 'Australia', 'England', 'South Africa', 'Sri Lanka', 'New Zealand']])\n",
      "Items view object: dict_items([('Sport', 'Cricket'), ('Teams', ['India', 'Australia', 'England', 'South Africa', 'Sri Lanka', 'New Zealand'])])\n"
     ]
    }
   ],
   "source": [
    "dict1 = {'Sport': 'Cricket', 'Teams': ['India', 'Australia', 'England', 'South Africa', 'Sri Lanka', 'New Zealand']}\n",
    "print(\"Keys view object:\",dict1.keys())\n",
    "print(\"Values view object:\",dict1.values())\n",
    "print(\"Items view object:\",dict1.items())\n"
   ]
  },
  {
   "cell_type": "markdown",
   "id": "b7aefb0e",
   "metadata": {},
   "source": [
    "#### The view objects returned by these methods are dynamic ,which means they reflect the changes made to the dictionary even after they have been created."
   ]
  },
  {
   "cell_type": "code",
   "execution_count": null,
   "id": "8c19a8f2",
   "metadata": {},
   "outputs": [],
   "source": []
  }
 ],
 "metadata": {
  "kernelspec": {
   "display_name": "Python 3 (ipykernel)",
   "language": "python",
   "name": "python3"
  },
  "language_info": {
   "codemirror_mode": {
    "name": "ipython",
    "version": 3
   },
   "file_extension": ".py",
   "mimetype": "text/x-python",
   "name": "python",
   "nbconvert_exporter": "python",
   "pygments_lexer": "ipython3",
   "version": "3.9.13"
  }
 },
 "nbformat": 4,
 "nbformat_minor": 5
}
